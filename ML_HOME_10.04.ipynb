{
 "cells": [
  {
   "cell_type": "code",
   "execution_count": 1,
   "metadata": {},
   "outputs": [],
   "source": [
    "import pandas as pd\n",
    "import numpy as np\n",
    "import matplotlib.pyplot as plt\n",
    "import seaborn as sns\n",
    "from sklearn.model_selection import train_test_split\n",
    "from sklearn.ensemble import RandomForestClassifier\n",
    "from sklearn.metrics import classification_report\n",
    "from sklearn.model_selection import GridSearchCV\n",
    "from sklearn.preprocessing import MinMaxScaler\n",
    "from sklearn.preprocessing import LabelEncoder\n",
    "from sklearn.metrics import confusion_matrix\n",
    "%matplotlib inline"
   ]
  },
  {
   "cell_type": "code",
   "execution_count": 1,
   "metadata": {},
   "outputs": [
    {
     "ename": "NameError",
     "evalue": "name 'pd' is not defined",
     "output_type": "error",
     "traceback": [
      "\u001b[0;31m---------------------------------------------------------------------------\u001b[0m",
      "\u001b[0;31mNameError\u001b[0m                                 Traceback (most recent call last)",
      "\u001b[0;32m<ipython-input-1-8ea9f5983596>\u001b[0m in \u001b[0;36m<module>\u001b[0;34m\u001b[0m\n\u001b[0;32m----> 1\u001b[0;31m \u001b[0mdf\u001b[0m \u001b[0;34m=\u001b[0m \u001b[0mpd\u001b[0m\u001b[0;34m.\u001b[0m\u001b[0mread_csv\u001b[0m\u001b[0;34m(\u001b[0m\u001b[0;34m'./Data/loan_data.csv'\u001b[0m\u001b[0;34m)\u001b[0m\u001b[0;34m\u001b[0m\u001b[0;34m\u001b[0m\u001b[0m\n\u001b[0m\u001b[1;32m      2\u001b[0m \u001b[0mdf\u001b[0m\u001b[0;34m.\u001b[0m\u001b[0mhead\u001b[0m\u001b[0;34m(\u001b[0m\u001b[0;34m)\u001b[0m\u001b[0;34m\u001b[0m\u001b[0;34m\u001b[0m\u001b[0m\n",
      "\u001b[0;31mNameError\u001b[0m: name 'pd' is not defined"
     ]
    }
   ],
   "source": [
    "df = pd.read_csv('./Data/loan_data.csv')\n",
    "df.head()"
   ]
  },
  {
   "cell_type": "code",
   "execution_count": 5,
   "metadata": {},
   "outputs": [
    {
     "name": "stdout",
     "output_type": "stream",
     "text": [
      "<class 'pandas.core.frame.DataFrame'>\n",
      "RangeIndex: 9578 entries, 0 to 9577\n",
      "Data columns (total 14 columns):\n",
      " #   Column             Non-Null Count  Dtype  \n",
      "---  ------             --------------  -----  \n",
      " 0   credit.policy      9578 non-null   int64  \n",
      " 1   purpose            9578 non-null   object \n",
      " 2   int.rate           9578 non-null   float64\n",
      " 3   installment        9578 non-null   float64\n",
      " 4   log.annual.inc     9578 non-null   float64\n",
      " 5   dti                9578 non-null   float64\n",
      " 6   fico               9578 non-null   int64  \n",
      " 7   days.with.cr.line  9578 non-null   float64\n",
      " 8   revol.bal          9578 non-null   int64  \n",
      " 9   revol.util         9578 non-null   float64\n",
      " 10  inq.last.6mths     9578 non-null   int64  \n",
      " 11  delinq.2yrs        9578 non-null   int64  \n",
      " 12  pub.rec            9578 non-null   int64  \n",
      " 13  not.fully.paid     9578 non-null   int64  \n",
      "dtypes: float64(6), int64(7), object(1)\n",
      "memory usage: 1.0+ MB\n",
      "None\n"
     ]
    }
   ],
   "source": [
    "print(df.info())"
   ]
  },
  {
   "cell_type": "code",
   "execution_count": 6,
   "metadata": {},
   "outputs": [
    {
     "data": {
      "text/plain": [
       "<matplotlib.axes._subplots.AxesSubplot at 0x7fc4cea307b8>"
      ]
     },
     "execution_count": 6,
     "metadata": {},
     "output_type": "execute_result"
    },
    {
     "data": {
      "image/png": "[encoded data removed]",
      "text/plain": [
       "<Figure size 432x288 with 1 Axes>"
      ]
     },
     "metadata": {
      "needs_background": "light"
     },
     "output_type": "display_data"
    }
   ],
   "source": [
    "sns.heatmap(df.isnull(), yticklabels= False, cbar= False, cmap= 'viridis' )"
   ]
  },
  {
   "cell_type": "code",
   "execution_count": 7,
   "metadata": {},
   "outputs": [
    {
     "data": {
      "text/plain": [
       "0    2\n",
       "1    1\n",
       "2    2\n",
       "3    2\n",
       "4    1\n",
       "Name: purpose, dtype: int64"
      ]
     },
     "execution_count": 7,
     "metadata": {},
     "output_type": "execute_result"
    }
   ],
   "source": [
    "lbl_encoder = LabelEncoder()\n",
    "df['purpose'] = lbl_encoder.fit_transform(df['purpose'])\n",
    "df['purpose'].head()"
   ]
  },
  {
   "cell_type": "code",
   "execution_count": 8,
   "metadata": {},
   "outputs": [
    {
     "data": {
      "text/html": [
       "<div>\n",
       "<style scoped>\n",
       "    .dataframe tbody tr th:only-of-type {\n",
       "        vertical-align: middle;\n",
       "    }\n",
       "\n",
       "    .dataframe tbody tr th {\n",
       "        vertical-align: top;\n",
       "    }\n",
       "\n",
       "    .dataframe thead th {\n",
       "        text-align: right;\n",
       "    }\n",
       "</style>\n",
       "<table border=\"1\" class=\"dataframe\">\n",
       "  <thead>\n",
       "    <tr style=\"text-align: right;\">\n",
       "      <th></th>\n",
       "      <th>credit.policy</th>\n",
       "      <th>purpose</th>\n",
       "      <th>int.rate</th>\n",
       "      <th>installment</th>\n",
       "      <th>log.annual.inc</th>\n",
       "      <th>dti</th>\n",
       "      <th>fico</th>\n",
       "      <th>days.with.cr.line</th>\n",
       "      <th>revol.bal</th>\n",
       "      <th>revol.util</th>\n",
       "      <th>inq.last.6mths</th>\n",
       "      <th>delinq.2yrs</th>\n",
       "      <th>pub.rec</th>\n",
       "    </tr>\n",
       "  </thead>\n",
       "  <tbody>\n",
       "    <tr>\n",
       "      <th>0</th>\n",
       "      <td>1.0</td>\n",
       "      <td>0.333333</td>\n",
       "      <td>0.376598</td>\n",
       "      <td>0.879888</td>\n",
       "      <td>0.544762</td>\n",
       "      <td>0.650200</td>\n",
       "      <td>0.581395</td>\n",
       "      <td>0.312754</td>\n",
       "      <td>0.023898</td>\n",
       "      <td>0.437815</td>\n",
       "      <td>0.000000</td>\n",
       "      <td>0.000000</td>\n",
       "      <td>0.0</td>\n",
       "    </tr>\n",
       "    <tr>\n",
       "      <th>1</th>\n",
       "      <td>1.0</td>\n",
       "      <td>0.166667</td>\n",
       "      <td>0.301151</td>\n",
       "      <td>0.229916</td>\n",
       "      <td>0.506334</td>\n",
       "      <td>0.476969</td>\n",
       "      <td>0.441860</td>\n",
       "      <td>0.147818</td>\n",
       "      <td>0.027848</td>\n",
       "      <td>0.644538</td>\n",
       "      <td>0.000000</td>\n",
       "      <td>0.000000</td>\n",
       "      <td>0.0</td>\n",
       "    </tr>\n",
       "    <tr>\n",
       "      <th>2</th>\n",
       "      <td>1.0</td>\n",
       "      <td>0.333333</td>\n",
       "      <td>0.484015</td>\n",
       "      <td>0.379883</td>\n",
       "      <td>0.404820</td>\n",
       "      <td>0.388184</td>\n",
       "      <td>0.325581</td>\n",
       "      <td>0.259495</td>\n",
       "      <td>0.002908</td>\n",
       "      <td>0.215126</td>\n",
       "      <td>0.030303</td>\n",
       "      <td>0.000000</td>\n",
       "      <td>0.0</td>\n",
       "    </tr>\n",
       "    <tr>\n",
       "      <th>3</th>\n",
       "      <td>1.0</td>\n",
       "      <td>0.333333</td>\n",
       "      <td>0.260870</td>\n",
       "      <td>0.158653</td>\n",
       "      <td>0.544762</td>\n",
       "      <td>0.270360</td>\n",
       "      <td>0.465116</td>\n",
       "      <td>0.144379</td>\n",
       "      <td>0.027885</td>\n",
       "      <td>0.615126</td>\n",
       "      <td>0.030303</td>\n",
       "      <td>0.000000</td>\n",
       "      <td>0.0</td>\n",
       "    </tr>\n",
       "    <tr>\n",
       "      <th>4</th>\n",
       "      <td>1.0</td>\n",
       "      <td>0.166667</td>\n",
       "      <td>0.528133</td>\n",
       "      <td>0.094378</td>\n",
       "      <td>0.537503</td>\n",
       "      <td>0.499666</td>\n",
       "      <td>0.255814</td>\n",
       "      <td>0.222613</td>\n",
       "      <td>0.003926</td>\n",
       "      <td>0.331933</td>\n",
       "      <td>0.000000</td>\n",
       "      <td>0.076923</td>\n",
       "      <td>0.0</td>\n",
       "    </tr>\n",
       "    <tr>\n",
       "      <th>...</th>\n",
       "      <td>...</td>\n",
       "      <td>...</td>\n",
       "      <td>...</td>\n",
       "      <td>...</td>\n",
       "      <td>...</td>\n",
       "      <td>...</td>\n",
       "      <td>...</td>\n",
       "      <td>...</td>\n",
       "      <td>...</td>\n",
       "      <td>...</td>\n",
       "      <td>...</td>\n",
       "      <td>...</td>\n",
       "      <td>...</td>\n",
       "    </tr>\n",
       "    <tr>\n",
       "      <th>9573</th>\n",
       "      <td>0.0</td>\n",
       "      <td>0.000000</td>\n",
       "      <td>0.550512</td>\n",
       "      <td>0.355977</td>\n",
       "      <td>0.663709</td>\n",
       "      <td>0.346796</td>\n",
       "      <td>0.279070</td>\n",
       "      <td>0.589602</td>\n",
       "      <td>0.178383</td>\n",
       "      <td>0.689916</td>\n",
       "      <td>0.060606</td>\n",
       "      <td>0.000000</td>\n",
       "      <td>0.0</td>\n",
       "    </tr>\n",
       "    <tr>\n",
       "      <th>9574</th>\n",
       "      <td>0.0</td>\n",
       "      <td>0.000000</td>\n",
       "      <td>0.417519</td>\n",
       "      <td>0.261804</td>\n",
       "      <td>0.514888</td>\n",
       "      <td>0.007009</td>\n",
       "      <td>0.511628</td>\n",
       "      <td>0.240596</td>\n",
       "      <td>0.000152</td>\n",
       "      <td>0.009244</td>\n",
       "      <td>0.151515</td>\n",
       "      <td>0.000000</td>\n",
       "      <td>0.0</td>\n",
       "    </tr>\n",
       "    <tr>\n",
       "      <th>9575</th>\n",
       "      <td>0.0</td>\n",
       "      <td>0.333333</td>\n",
       "      <td>0.301151</td>\n",
       "      <td>0.088851</td>\n",
       "      <td>0.436785</td>\n",
       "      <td>0.436916</td>\n",
       "      <td>0.348837</td>\n",
       "      <td>0.187337</td>\n",
       "      <td>0.008312</td>\n",
       "      <td>0.696639</td>\n",
       "      <td>0.242424</td>\n",
       "      <td>0.000000</td>\n",
       "      <td>0.0</td>\n",
       "    </tr>\n",
       "    <tr>\n",
       "      <th>9576</th>\n",
       "      <td>0.0</td>\n",
       "      <td>0.666667</td>\n",
       "      <td>0.639386</td>\n",
       "      <td>0.363354</td>\n",
       "      <td>0.468750</td>\n",
       "      <td>0.640187</td>\n",
       "      <td>0.372093</td>\n",
       "      <td>0.092838</td>\n",
       "      <td>0.000000</td>\n",
       "      <td>0.026891</td>\n",
       "      <td>0.151515</td>\n",
       "      <td>0.000000</td>\n",
       "      <td>0.0</td>\n",
       "    </tr>\n",
       "    <tr>\n",
       "      <th>9577</th>\n",
       "      <td>0.0</td>\n",
       "      <td>0.333333</td>\n",
       "      <td>0.506394</td>\n",
       "      <td>0.906206</td>\n",
       "      <td>0.532451</td>\n",
       "      <td>0.543391</td>\n",
       "      <td>0.558140</td>\n",
       "      <td>0.261213</td>\n",
       "      <td>0.031373</td>\n",
       "      <td>0.478992</td>\n",
       "      <td>0.181818</td>\n",
       "      <td>0.000000</td>\n",
       "      <td>0.0</td>\n",
       "    </tr>\n",
       "  </tbody>\n",
       "</table>\n",
       "<p>9578 rows × 13 columns</p>\n",
       "</div>"
      ],
      "text/plain": [
       "      credit.policy   purpose  int.rate  installment  log.annual.inc  \\\n",
       "0               1.0  0.333333  0.376598     0.879888        0.544762   \n",
       "1               1.0  0.166667  0.301151     0.229916        0.506334   \n",
       "2               1.0  0.333333  0.484015     0.379883        0.404820   \n",
       "3               1.0  0.333333  0.260870     0.158653        0.544762   \n",
       "4               1.0  0.166667  0.528133     0.094378        0.537503   \n",
       "...             ...       ...       ...          ...             ...   \n",
       "9573            0.0  0.000000  0.550512     0.355977        0.663709   \n",
       "9574            0.0  0.000000  0.417519     0.261804        0.514888   \n",
       "9575            0.0  0.333333  0.301151     0.088851        0.436785   \n",
       "9576            0.0  0.666667  0.639386     0.363354        0.468750   \n",
       "9577            0.0  0.333333  0.506394     0.906206        0.532451   \n",
       "\n",
       "           dti      fico  days.with.cr.line  revol.bal  revol.util  \\\n",
       "0     0.650200  0.581395           0.312754   0.023898    0.437815   \n",
       "1     0.476969  0.441860           0.147818   0.027848    0.644538   \n",
       "2     0.388184  0.325581           0.259495   0.002908    0.215126   \n",
       "3     0.270360  0.465116           0.144379   0.027885    0.615126   \n",
       "4     0.499666  0.255814           0.222613   0.003926    0.331933   \n",
       "...        ...       ...                ...        ...         ...   \n",
       "9573  0.346796  0.279070           0.589602   0.178383    0.689916   \n",
       "9574  0.007009  0.511628           0.240596   0.000152    0.009244   \n",
       "9575  0.436916  0.348837           0.187337   0.008312    0.696639   \n",
       "9576  0.640187  0.372093           0.092838   0.000000    0.026891   \n",
       "9577  0.543391  0.558140           0.261213   0.031373    0.478992   \n",
       "\n",
       "      inq.last.6mths  delinq.2yrs  pub.rec  \n",
       "0           0.000000     0.000000      0.0  \n",
       "1           0.000000     0.000000      0.0  \n",
       "2           0.030303     0.000000      0.0  \n",
       "3           0.030303     0.000000      0.0  \n",
       "4           0.000000     0.076923      0.0  \n",
       "...              ...          ...      ...  \n",
       "9573        0.060606     0.000000      0.0  \n",
       "9574        0.151515     0.000000      0.0  \n",
       "9575        0.242424     0.000000      0.0  \n",
       "9576        0.151515     0.000000      0.0  \n",
       "9577        0.181818     0.000000      0.0  \n",
       "\n",
       "[9578 rows x 13 columns]"
      ]
     },
     "execution_count": 8,
     "metadata": {},
     "output_type": "execute_result"
    }
   ],
   "source": [
    "scaler = MinMaxScaler()\n",
    "y = df['not.fully.paid']\n",
    "df.drop('not.fully.paid', axis=1, inplace=True)\n",
    "x = pd.DataFrame(scaler.fit_transform(df), columns=df.columns)\n",
    "x"
   ]
  },
  {
   "cell_type": "code",
   "execution_count": 9,
   "metadata": {},
   "outputs": [
    {
     "data": {
      "text/plain": [
       "0       0\n",
       "1       0\n",
       "2       0\n",
       "3       0\n",
       "4       0\n",
       "       ..\n",
       "9573    1\n",
       "9574    1\n",
       "9575    1\n",
       "9576    1\n",
       "9577    1\n",
       "Name: not.fully.paid, Length: 9578, dtype: int64"
      ]
     },
     "execution_count": 9,
     "metadata": {},
     "output_type": "execute_result"
    }
   ],
   "source": [
    "y"
   ]
  },
  {
   "cell_type": "code",
   "execution_count": 10,
   "metadata": {},
   "outputs": [
    {
     "data": {
      "text/plain": [
       "[10, 25, 50, 75, 100, 150, 200, 250]"
      ]
     },
     "execution_count": 10,
     "metadata": {},
     "output_type": "execute_result"
    }
   ],
   "source": [
    "n_estimators = [10, 25, 50, 75, 100, 150, 200, 250]\n",
    "n_estimators"
   ]
  },
  {
   "cell_type": "code",
   "execution_count": 11,
   "metadata": {},
   "outputs": [],
   "source": [
    "x_train, x_test, y_train, y_test = train_test_split(x, y, test_size=0.3, random_state=10)\n",
    "rf_model = RandomForestClassifier()"
   ]
  },
  {
   "cell_type": "code",
   "execution_count": 12,
   "metadata": {},
   "outputs": [],
   "source": [
    "gs_clf = GridSearchCV(rf_model, param_grid={'n_estimators' : n_estimators})\n",
    "\n",
    "gs_clf.fit(x_train, y_train)\n",
    "best_cv_err = 1 - gs_clf.best_score_\n",
    "best_param_n_estimators = gs_clf.best_estimator_.n_estimators"
   ]
  },
  {
   "cell_type": "code",
   "execution_count": 13,
   "metadata": {},
   "outputs": [
    {
     "name": "stdout",
     "output_type": "stream",
     "text": [
      "RF-модель:\n",
      "Значение ошибки перекрестного контроля: 0.16124712010417708\n",
      "Наилучшее значение n_estimators: 250\n",
      "Ошибка на обучающей выборке: 0.0\n",
      "Ошибка на тестовой выборке: 0.1590118302018093\n",
      "              precision    recall  f1-score   support\n",
      "\n",
      "           0       0.84      1.00      0.91      2414\n",
      "           1       0.67      0.01      0.03       460\n",
      "\n",
      "    accuracy                           0.84      2874\n",
      "   macro avg       0.75      0.51      0.47      2874\n",
      "weighted avg       0.81      0.84      0.77      2874\n",
      "\n"
     ]
    }
   ],
   "source": [
    "print('RF-модель:')\n",
    "print(f'Значение ошибки перекрестного контроля: {best_cv_err}')\n",
    "print(f'Наилучшее значение n_estimators: {best_param_n_estimators}')\n",
    "\n",
    "rf_model = RandomForestClassifier(n_estimators= best_param_n_estimators)\n",
    "rf_model.fit(x_train, y_train)\n",
    "err_train = np.mean(y_train != rf_model.predict(x_train))\n",
    "err_test = np.mean(y_test != rf_model.predict(x_test))\n",
    "print(f'Ошибка на обучающей выборке: {err_train}')\n",
    "print(f'Ошибка на тестовой выборке: {err_test}')\n",
    "\n",
    "y_pred = rf_model.predict(x_test)\n",
    "print(classification_report(y_test, y_pred))"
   ]
  },
  {
   "cell_type": "code",
   "execution_count": 14,
   "metadata": {},
   "outputs": [
    {
     "data": {
      "image/png": "[encoded data removed]",
      "text/plain": [
       "<Figure size 936x936 with 2 Axes>"
      ]
     },
     "metadata": {
      "needs_background": "light"
     },
     "output_type": "display_data"
    }
   ],
   "source": [
    "cm = confusion_matrix(y_test, y_pred)\n",
    "df_cm = pd.DataFrame(cm, columns=np.unique(y_test), index=np.unique(y_test))\n",
    "df_cm.index.name = 'Actual'\n",
    "df_cm.columns.name = 'Predicted'\n",
    "plt.figure(figsize=(13,13))\n",
    "sns.set(font_scale=1.4)\n",
    "ax = sns.heatmap(df_cm, cmap=\"Blues\", annot=True, annot_kws={'size': 16})\n",
    "i, k = ax.get_ylim()\n",
    "ax = ax.set_ylim(i+0.5, k-0.5)"
   ]
  }
 ],
 "metadata": {
  "kernelspec": {
   "display_name": "Python 3",
   "language": "python",
   "name": "python3"
  },
  "language_info": {
   "codemirror_mode": {
    "name": "ipython",
    "version": 3
   },
   "file_extension": ".py",
   "mimetype": "text/x-python",
   "name": "python",
   "nbconvert_exporter": "python",
   "pygments_lexer": "ipython3",
   "version": "3.6.9"
  }
 },
 "nbformat": 4,
 "nbformat_minor": 2
}
